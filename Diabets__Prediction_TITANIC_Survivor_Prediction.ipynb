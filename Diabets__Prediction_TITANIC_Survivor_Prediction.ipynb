{
  "nbformat": 4,
  "nbformat_minor": 0,
  "metadata": {
    "accelerator": "GPU",
    "colab": {
      "name": "Diabets__Prediction // TITANIC_Survivor_Prediction.ipynb",
      "provenance": [],
      "collapsed_sections": []
    },
    "kernelspec": {
      "display_name": "Python 3",
      "name": "python3"
    },
    "language_info": {
      "name": "python"
    }
  },
  "cells": [
    {
      "cell_type": "code",
      "metadata": {
        "colab": {
          "base_uri": "https://localhost:8080/"
        },
        "id": "G_WaayiOoHAN",
        "outputId": "18f7803d-4b82-4945-b202-2fa3789720e5"
      },
      "source": [
        "# LET'S HAVE A RECALL....\n",
        "\n",
        "items = [\n",
        "         ('Item 1', 67),\n",
        "         ('Item 2', 22),\n",
        "         ('Item 3', 24),\n",
        "\n",
        "]\n",
        "\n",
        "def sort_items(item):\n",
        "  return item[1]\n",
        "\n",
        "\n",
        "items.sort(key= sort_items)\n",
        "print(items)\n",
        "\n",
        "\n"
      ],
      "execution_count": null,
      "outputs": [
        {
          "output_type": "stream",
          "text": [
            "[('Item 2', 22), ('Item 3', 24), ('Item 1', 67)]\n"
          ],
          "name": "stdout"
        }
      ]
    },
    {
      "cell_type": "code",
      "metadata": {
        "colab": {
          "base_uri": "https://localhost:8080/"
        },
        "id": "f7HLjPwY9_GV",
        "outputId": "8eb87d20-a991-4b98-c469-a3bc592b881b"
      },
      "source": [
        "# Recap Numpy\n",
        "\n",
        "import numpy as np\n",
        "\n",
        "mylist = [[1, 2, 3, 4], [3, 4, 5, 3]]\n",
        "myarray = np.array(mylist)\n",
        "\n",
        "print(myarray)\n",
        "print(myarray.shape)"
      ],
      "execution_count": null,
      "outputs": [
        {
          "output_type": "stream",
          "text": [
            "[[1 2 3 4]\n",
            " [3 4 5 3]]\n",
            "(2, 4)\n"
          ],
          "name": "stdout"
        }
      ]
    },
    {
      "cell_type": "code",
      "metadata": {
        "colab": {
          "base_uri": "https://localhost:8080/",
          "height": 279
        },
        "id": "SjMVIjmNGHM5",
        "outputId": "6d1c823f-48e5-404d-87ac-c69e5975288e"
      },
      "source": [
        "import matplotlib.pyplot as plt\n",
        "import  numpy as np\n",
        "\n",
        "list_ = [[2, 4, 6, 8], [3, 5, 7, 9]]\n",
        "myarray = np.array(list_)\n",
        "plt.plot(myarray)\n",
        "plt.xlabel('x axis')\n",
        "#plt.ylabel('y axis')\n",
        "plt.show()\n"
      ],
      "execution_count": null,
      "outputs": [
        {
          "output_type": "display_data",
          "data": {
            "image/png": "[encoded data removed]",
            "text/plain": [
              "<Figure size 432x288 with 1 Axes>"
            ]
          },
          "metadata": {
            "tags": [],
            "needs_background": "light"
          }
        }
      ]
    },
    {
      "cell_type": "code",
      "metadata": {
        "colab": {
          "base_uri": "https://localhost:8080/"
        },
        "id": "xW70F4Cq1JwU",
        "outputId": "ed843f3f-7e9a-4ad0-b773-15a88bfc29d6"
      },
      "source": [
        "from sklearn import tree \n",
        "#sklearn.__version__\n",
        "\n",
        "\n",
        "features = [[140, 0], [130, 1], [150, 0], [170, 1]]\n",
        "labels = [0, 0, 1, 1]\n",
        "\n",
        "clsf = tree.DecisionTreeClassifier()\n",
        "clsf = clsf.fit(features, labels)\n",
        "print(clsf.predict([[10, 1]]))\n"
      ],
      "execution_count": null,
      "outputs": [
        {
          "output_type": "stream",
          "text": [
            "[0]\n"
          ],
          "name": "stdout"
        }
      ]
    },
    {
      "cell_type": "code",
      "metadata": {
        "colab": {
          "base_uri": "https://localhost:8080/"
        },
        "id": "yKOXoQ7x7fFw",
        "outputId": "ae2562bf-edd9-4b34-d6a8-22ee30185e58"
      },
      "source": [
        "#Working with Iris Dataset \n",
        "\"\"\" Goals:\n",
        ">>> Import Dataset\n",
        ">>> Train Classifier\n",
        ">>> Predict label for new flower\n",
        "\"\"\"\n",
        "\n",
        "from sklearn.datasets import load_iris\n",
        "\n",
        "iris = load_iris()\n",
        "print(f'Features: {iris.feature_names}')\n",
        "print(iris.target_names)\n",
        "print(iris.target[0])\n",
        "print(iris.data[0])\n"
      ],
      "execution_count": null,
      "outputs": [
        {
          "output_type": "stream",
          "text": [
            "Features: ['sepal length (cm)', 'sepal width (cm)', 'petal length (cm)', 'petal width (cm)']\n",
            "['setosa' 'versicolor' 'virginica']\n",
            "0\n",
            "[5.1 3.5 1.4 0.2]\n"
          ],
          "name": "stdout"
        }
      ]
    },
    {
      "cell_type": "code",
      "metadata": {
        "colab": {
          "base_uri": "https://localhost:8080/",
          "height": 173
        },
        "id": "LxGYeqrA2Sln",
        "outputId": "435853d6-6c7c-4aff-b9c7-16f16ddc9cf9"
      },
      "source": [
        "# Class Dataset, Pima Indians Diabetes, From Kaggle\n",
        "\n",
        "from pandas import read_csv\n",
        "from pandas import set_option\n",
        "from matplotlib import pyplot\n",
        "from sklearn.preprocessing import MinMaxScaler\n",
        "from numpy import set_printoptions\n",
        "\n",
        "filename = \"/content/drive/MyDrive/Pima_Indians_Diabetes/diabetes.csv\"\n",
        "#filename = \"\"\n",
        "#names = [' Preg ', ' Glu ', ' Pres ', ' Skin ', ' Test ', ' Mass', ' Pedi', ' Age ', ' Class ']\n",
        "#data = read_csv(filename, names=names)\n",
        "data = read_csv(filename,)\n",
        "\n",
        "displaydata = data.head(4)\n",
        "displaydata\n",
        "#print(displaydata)\n"
      ],
      "execution_count": null,
      "outputs": [
        {
          "output_type": "execute_result",
          "data": {
            "text/html": [
              "<div>\n",
              "<style scoped>\n",
              "    .dataframe tbody tr th:only-of-type {\n",
              "        vertical-align: middle;\n",
              "    }\n",
              "\n",
              "    .dataframe tbody tr th {\n",
              "        vertical-align: top;\n",
              "    }\n",
              "\n",
              "    .dataframe thead th {\n",
              "        text-align: right;\n",
              "    }\n",
              "</style>\n",
              "<table border=\"1\" class=\"dataframe\">\n",
              "  <thead>\n",
              "    <tr style=\"text-align: right;\">\n",
              "      <th></th>\n",
              "      <th>Pregnancies</th>\n",
              "      <th>Glucose</th>\n",
              "      <th>BloodPressure</th>\n",
              "      <th>SkinThickness</th>\n",
              "      <th>Insulin</th>\n",
              "      <th>BMI</th>\n",
              "      <th>DiabetesPedigreeFunction</th>\n",
              "      <th>Age</th>\n",
              "      <th>Outcome</th>\n",
              "    </tr>\n",
              "  </thead>\n",
              "  <tbody>\n",
              "    <tr>\n",
              "      <th>0</th>\n",
              "      <td>6</td>\n",
              "      <td>148</td>\n",
              "      <td>72</td>\n",
              "      <td>35</td>\n",
              "      <td>0</td>\n",
              "      <td>33.6</td>\n",
              "      <td>0.627</td>\n",
              "      <td>50</td>\n",
              "      <td>1</td>\n",
              "    </tr>\n",
              "    <tr>\n",
              "      <th>1</th>\n",
              "      <td>1</td>\n",
              "      <td>85</td>\n",
              "      <td>66</td>\n",
              "      <td>29</td>\n",
              "      <td>0</td>\n",
              "      <td>26.6</td>\n",
              "      <td>0.351</td>\n",
              "      <td>31</td>\n",
              "      <td>0</td>\n",
              "    </tr>\n",
              "    <tr>\n",
              "      <th>2</th>\n",
              "      <td>8</td>\n",
              "      <td>183</td>\n",
              "      <td>64</td>\n",
              "      <td>0</td>\n",
              "      <td>0</td>\n",
              "      <td>23.3</td>\n",
              "      <td>0.672</td>\n",
              "      <td>32</td>\n",
              "      <td>1</td>\n",
              "    </tr>\n",
              "    <tr>\n",
              "      <th>3</th>\n",
              "      <td>1</td>\n",
              "      <td>89</td>\n",
              "      <td>66</td>\n",
              "      <td>23</td>\n",
              "      <td>94</td>\n",
              "      <td>28.1</td>\n",
              "      <td>0.167</td>\n",
              "      <td>21</td>\n",
              "      <td>0</td>\n",
              "    </tr>\n",
              "  </tbody>\n",
              "</table>\n",
              "</div>"
            ],
            "text/plain": [
              "   Pregnancies  Glucose  BloodPressure  ...  DiabetesPedigreeFunction  Age  Outcome\n",
              "0            6      148             72  ...                     0.627   50        1\n",
              "1            1       85             66  ...                     0.351   31        0\n",
              "2            8      183             64  ...                     0.672   32        1\n",
              "3            1       89             66  ...                     0.167   21        0\n",
              "\n",
              "[4 rows x 9 columns]"
            ]
          },
          "metadata": {
            "tags": []
          },
          "execution_count": 42
        }
      ]
    },
    {
      "cell_type": "code",
      "metadata": {
        "colab": {
          "base_uri": "https://localhost:8080/"
        },
        "id": "gP_a_mvzJscv",
        "outputId": "b83f86e8-063b-49de-a81c-9ad6892db11a"
      },
      "source": [
        "print(data.dtypes)\n",
        "data.shape\n",
        "\n"
      ],
      "execution_count": null,
      "outputs": [
        {
          "output_type": "stream",
          "text": [
            "Pregnancies                   int64\n",
            "Glucose                       int64\n",
            "BloodPressure                 int64\n",
            "SkinThickness                 int64\n",
            "Insulin                       int64\n",
            "BMI                         float64\n",
            "DiabetesPedigreeFunction    float64\n",
            "Age                           int64\n",
            "Outcome                       int64\n",
            "dtype: object\n"
          ],
          "name": "stdout"
        },
        {
          "output_type": "execute_result",
          "data": {
            "text/plain": [
              "(768, 9)"
            ]
          },
          "metadata": {
            "tags": []
          },
          "execution_count": 43
        }
      ]
    },
    {
      "cell_type": "code",
      "metadata": {
        "colab": {
          "base_uri": "https://localhost:8080/",
          "height": 297
        },
        "id": "GeAv8ueeSJUF",
        "outputId": "6c980296-b1de-4f67-87aa-2eafcd930f73"
      },
      "source": [
        "set_option('display.width', 100)\n",
        "set_option('precision', 3)\n",
        "description = data.describe()\n",
        "description\n",
        "#print(description)"
      ],
      "execution_count": null,
      "outputs": [
        {
          "output_type": "execute_result",
          "data": {
            "text/html": [
              "<div>\n",
              "<style scoped>\n",
              "    .dataframe tbody tr th:only-of-type {\n",
              "        vertical-align: middle;\n",
              "    }\n",
              "\n",
              "    .dataframe tbody tr th {\n",
              "        vertical-align: top;\n",
              "    }\n",
              "\n",
              "    .dataframe thead th {\n",
              "        text-align: right;\n",
              "    }\n",
              "</style>\n",
              "<table border=\"1\" class=\"dataframe\">\n",
              "  <thead>\n",
              "    <tr style=\"text-align: right;\">\n",
              "      <th></th>\n",
              "      <th>Pregnancies</th>\n",
              "      <th>Glucose</th>\n",
              "      <th>BloodPressure</th>\n",
              "      <th>SkinThickness</th>\n",
              "      <th>Insulin</th>\n",
              "      <th>BMI</th>\n",
              "      <th>DiabetesPedigreeFunction</th>\n",
              "      <th>Age</th>\n",
              "      <th>Outcome</th>\n",
              "    </tr>\n",
              "  </thead>\n",
              "  <tbody>\n",
              "    <tr>\n",
              "      <th>count</th>\n",
              "      <td>768.000</td>\n",
              "      <td>768.000</td>\n",
              "      <td>768.000</td>\n",
              "      <td>768.000</td>\n",
              "      <td>768.000</td>\n",
              "      <td>768.000</td>\n",
              "      <td>768.000</td>\n",
              "      <td>768.000</td>\n",
              "      <td>768.000</td>\n",
              "    </tr>\n",
              "    <tr>\n",
              "      <th>mean</th>\n",
              "      <td>3.845</td>\n",
              "      <td>120.895</td>\n",
              "      <td>69.105</td>\n",
              "      <td>20.536</td>\n",
              "      <td>79.799</td>\n",
              "      <td>31.993</td>\n",
              "      <td>0.472</td>\n",
              "      <td>33.241</td>\n",
              "      <td>0.349</td>\n",
              "    </tr>\n",
              "    <tr>\n",
              "      <th>std</th>\n",
              "      <td>3.370</td>\n",
              "      <td>31.973</td>\n",
              "      <td>19.356</td>\n",
              "      <td>15.952</td>\n",
              "      <td>115.244</td>\n",
              "      <td>7.884</td>\n",
              "      <td>0.331</td>\n",
              "      <td>11.760</td>\n",
              "      <td>0.477</td>\n",
              "    </tr>\n",
              "    <tr>\n",
              "      <th>min</th>\n",
              "      <td>0.000</td>\n",
              "      <td>0.000</td>\n",
              "      <td>0.000</td>\n",
              "      <td>0.000</td>\n",
              "      <td>0.000</td>\n",
              "      <td>0.000</td>\n",
              "      <td>0.078</td>\n",
              "      <td>21.000</td>\n",
              "      <td>0.000</td>\n",
              "    </tr>\n",
              "    <tr>\n",
              "      <th>25%</th>\n",
              "      <td>1.000</td>\n",
              "      <td>99.000</td>\n",
              "      <td>62.000</td>\n",
              "      <td>0.000</td>\n",
              "      <td>0.000</td>\n",
              "      <td>27.300</td>\n",
              "      <td>0.244</td>\n",
              "      <td>24.000</td>\n",
              "      <td>0.000</td>\n",
              "    </tr>\n",
              "    <tr>\n",
              "      <th>50%</th>\n",
              "      <td>3.000</td>\n",
              "      <td>117.000</td>\n",
              "      <td>72.000</td>\n",
              "      <td>23.000</td>\n",
              "      <td>30.500</td>\n",
              "      <td>32.000</td>\n",
              "      <td>0.372</td>\n",
              "      <td>29.000</td>\n",
              "      <td>0.000</td>\n",
              "    </tr>\n",
              "    <tr>\n",
              "      <th>75%</th>\n",
              "      <td>6.000</td>\n",
              "      <td>140.250</td>\n",
              "      <td>80.000</td>\n",
              "      <td>32.000</td>\n",
              "      <td>127.250</td>\n",
              "      <td>36.600</td>\n",
              "      <td>0.626</td>\n",
              "      <td>41.000</td>\n",
              "      <td>1.000</td>\n",
              "    </tr>\n",
              "    <tr>\n",
              "      <th>max</th>\n",
              "      <td>17.000</td>\n",
              "      <td>199.000</td>\n",
              "      <td>122.000</td>\n",
              "      <td>99.000</td>\n",
              "      <td>846.000</td>\n",
              "      <td>67.100</td>\n",
              "      <td>2.420</td>\n",
              "      <td>81.000</td>\n",
              "      <td>1.000</td>\n",
              "    </tr>\n",
              "  </tbody>\n",
              "</table>\n",
              "</div>"
            ],
            "text/plain": [
              "       Pregnancies  Glucose  ...      Age  Outcome\n",
              "count      768.000  768.000  ...  768.000  768.000\n",
              "mean         3.845  120.895  ...   33.241    0.349\n",
              "std          3.370   31.973  ...   11.760    0.477\n",
              "min          0.000    0.000  ...   21.000    0.000\n",
              "25%          1.000   99.000  ...   24.000    0.000\n",
              "50%          3.000  117.000  ...   29.000    0.000\n",
              "75%          6.000  140.250  ...   41.000    1.000\n",
              "max         17.000  199.000  ...   81.000    1.000\n",
              "\n",
              "[8 rows x 9 columns]"
            ]
          },
          "metadata": {
            "tags": []
          },
          "execution_count": 44
        }
      ]
    },
    {
      "cell_type": "code",
      "metadata": {
        "colab": {
          "base_uri": "https://localhost:8080/"
        },
        "id": "Oe82TKCrLocj",
        "outputId": "5a500686-2ff4-4bcc-b07c-8c499eb82f56"
      },
      "source": [
        "data[\"Outcome\"]"
      ],
      "execution_count": null,
      "outputs": [
        {
          "output_type": "execute_result",
          "data": {
            "text/plain": [
              "0      1\n",
              "1      0\n",
              "2      1\n",
              "3      0\n",
              "4      1\n",
              "      ..\n",
              "763    0\n",
              "764    0\n",
              "765    0\n",
              "766    1\n",
              "767    0\n",
              "Name: Outcome, Length: 768, dtype: int64"
            ]
          },
          "metadata": {
            "tags": []
          },
          "execution_count": 45
        }
      ]
    },
    {
      "cell_type": "code",
      "metadata": {
        "colab": {
          "base_uri": "https://localhost:8080/",
          "height": 281
        },
        "id": "F3deSGQGUfgc",
        "outputId": "19cb4cdb-6f43-4191-fec7-369cf96ff52b"
      },
      "source": [
        "data.hist()\n",
        "pyplot.show()"
      ],
      "execution_count": null,
      "outputs": [
        {
          "output_type": "display_data",
          "data": {
            "image/png": "[encoded data removed]",
            "text/plain": [
              "<Figure size 432x288 with 9 Axes>"
            ]
          },
          "metadata": {
            "tags": [],
            "needs_background": "light"
          }
        }
      ]
    },
    {
      "cell_type": "code",
      "metadata": {
        "colab": {
          "base_uri": "https://localhost:8080/",
          "height": 265
        },
        "id": "gdPhpnZpUhck",
        "outputId": "00571939-e496-4563-d854-699981b3b4b9"
      },
      "source": [
        "data.plot(kind='density', subplots = True, layout=(3, 3), sharex=False)\n",
        "pyplot.show()"
      ],
      "execution_count": null,
      "outputs": [
        {
          "output_type": "display_data",
          "data": {
            "image/png": "[encoded data removed]",
            "text/plain": [
              "<Figure size 432x288 with 9 Axes>"
            ]
          },
          "metadata": {
            "tags": [],
            "needs_background": "light"
          }
        }
      ]
    },
    {
      "cell_type": "code",
      "metadata": {
        "colab": {
          "base_uri": "https://localhost:8080/"
        },
        "id": "JRAkHKpVwPVV",
        "outputId": "1b45c5ac-ab06-439c-8b14-cf11b9210b55"
      },
      "source": [
        "dataframe = read_csv(filename)\n",
        "array = dataframe.values\n",
        "\n",
        "#Separate array into input and output components\n",
        "X = array[:, 0:8] #Select the columns to be considered\n",
        "y = array[:, 8]\n",
        "\n",
        "scaler = MinMaxScaler(feature_range=(0, 1)) # Define the scale range\n",
        "rescaledX = scaler.fit_transform(X) # Transforms/Scales the selected values\n",
        "\n",
        "#Summarize transformed data\n",
        "set_printoptions(precision=1) # Highlights the number after dots (Float)\n",
        "print(rescaledX[0:10, :]) #Prints the number of raws to be considered"
      ],
      "execution_count": null,
      "outputs": [
        {
          "output_type": "stream",
          "text": [
            "[[0.4 0.7 0.6 0.4 0.  0.5 0.2 0.5]\n",
            " [0.1 0.4 0.5 0.3 0.  0.4 0.1 0.2]\n",
            " [0.5 0.9 0.5 0.  0.  0.3 0.3 0.2]\n",
            " [0.1 0.4 0.5 0.2 0.1 0.4 0.  0. ]\n",
            " [0.  0.7 0.3 0.4 0.2 0.6 0.9 0.2]\n",
            " [0.3 0.6 0.6 0.  0.  0.4 0.1 0.2]\n",
            " [0.2 0.4 0.4 0.3 0.1 0.5 0.1 0.1]\n",
            " [0.6 0.6 0.  0.  0.  0.5 0.  0.1]\n",
            " [0.1 1.  0.6 0.5 0.6 0.5 0.  0.5]\n",
            " [0.5 0.6 0.8 0.  0.  0.  0.1 0.6]]\n"
          ],
          "name": "stdout"
        }
      ]
    },
    {
      "cell_type": "code",
      "metadata": {
        "id": "Q_lfNvx2nJPI"
      },
      "source": [
        "#dataframe.values[ : , : 8]\n"
      ],
      "execution_count": null,
      "outputs": []
    },
    {
      "cell_type": "code",
      "metadata": {
        "colab": {
          "base_uri": "https://localhost:8080/"
        },
        "id": "oUAEX9IoJe3C",
        "outputId": "e5c8ff80-237f-478c-9140-ce74737f0162"
      },
      "source": [
        "# Calss of 18 june, 021\n",
        "from sklearn.feature_selection import SelectKBest\n",
        "from sklearn.feature_selection import chi2\n",
        "\n",
        "# Feature exctraction\n",
        "test = SelectKBest(score_func = chi2, k=4)\n",
        "fit = test.fit(X, y)\n",
        "\n",
        "# Summarize scores\n",
        "set_printoptions(precision=3)\n",
        "print(fit.scores_)\n",
        "features = fit.transform(X)\n",
        "\n",
        "# Summarize selected features\n",
        "print(features[0:5, :])\n"
      ],
      "execution_count": null,
      "outputs": [
        {
          "output_type": "stream",
          "text": [
            "[ 111.52  1411.887   17.605   53.108 2175.565  127.669    5.393  181.304]\n",
            "[[148.    0.   33.6  50. ]\n",
            " [ 85.    0.   26.6  31. ]\n",
            " [183.    0.   23.3  32. ]\n",
            " [ 89.   94.   28.1  21. ]\n",
            " [137.  168.   43.1  33. ]]\n"
          ],
          "name": "stdout"
        }
      ]
    },
    {
      "cell_type": "code",
      "metadata": {
        "colab": {
          "base_uri": "https://localhost:8080/",
          "height": 203
        },
        "id": "3LowOZANNYpf",
        "outputId": "83f9e150-d2de-40f4-c0c0-ce473ce38525"
      },
      "source": [
        "data.head()\n",
        "\n",
        "#type(data.values)\n"
      ],
      "execution_count": null,
      "outputs": [
        {
          "output_type": "execute_result",
          "data": {
            "text/html": [
              "<div>\n",
              "<style scoped>\n",
              "    .dataframe tbody tr th:only-of-type {\n",
              "        vertical-align: middle;\n",
              "    }\n",
              "\n",
              "    .dataframe tbody tr th {\n",
              "        vertical-align: top;\n",
              "    }\n",
              "\n",
              "    .dataframe thead th {\n",
              "        text-align: right;\n",
              "    }\n",
              "</style>\n",
              "<table border=\"1\" class=\"dataframe\">\n",
              "  <thead>\n",
              "    <tr style=\"text-align: right;\">\n",
              "      <th></th>\n",
              "      <th>Pregnancies</th>\n",
              "      <th>Glucose</th>\n",
              "      <th>BloodPressure</th>\n",
              "      <th>SkinThickness</th>\n",
              "      <th>Insulin</th>\n",
              "      <th>BMI</th>\n",
              "      <th>DiabetesPedigreeFunction</th>\n",
              "      <th>Age</th>\n",
              "      <th>Outcome</th>\n",
              "    </tr>\n",
              "  </thead>\n",
              "  <tbody>\n",
              "    <tr>\n",
              "      <th>0</th>\n",
              "      <td>6</td>\n",
              "      <td>148</td>\n",
              "      <td>72</td>\n",
              "      <td>35</td>\n",
              "      <td>0</td>\n",
              "      <td>33.6</td>\n",
              "      <td>0.627</td>\n",
              "      <td>50</td>\n",
              "      <td>1</td>\n",
              "    </tr>\n",
              "    <tr>\n",
              "      <th>1</th>\n",
              "      <td>1</td>\n",
              "      <td>85</td>\n",
              "      <td>66</td>\n",
              "      <td>29</td>\n",
              "      <td>0</td>\n",
              "      <td>26.6</td>\n",
              "      <td>0.351</td>\n",
              "      <td>31</td>\n",
              "      <td>0</td>\n",
              "    </tr>\n",
              "    <tr>\n",
              "      <th>2</th>\n",
              "      <td>8</td>\n",
              "      <td>183</td>\n",
              "      <td>64</td>\n",
              "      <td>0</td>\n",
              "      <td>0</td>\n",
              "      <td>23.3</td>\n",
              "      <td>0.672</td>\n",
              "      <td>32</td>\n",
              "      <td>1</td>\n",
              "    </tr>\n",
              "    <tr>\n",
              "      <th>3</th>\n",
              "      <td>1</td>\n",
              "      <td>89</td>\n",
              "      <td>66</td>\n",
              "      <td>23</td>\n",
              "      <td>94</td>\n",
              "      <td>28.1</td>\n",
              "      <td>0.167</td>\n",
              "      <td>21</td>\n",
              "      <td>0</td>\n",
              "    </tr>\n",
              "    <tr>\n",
              "      <th>4</th>\n",
              "      <td>0</td>\n",
              "      <td>137</td>\n",
              "      <td>40</td>\n",
              "      <td>35</td>\n",
              "      <td>168</td>\n",
              "      <td>43.1</td>\n",
              "      <td>2.288</td>\n",
              "      <td>33</td>\n",
              "      <td>1</td>\n",
              "    </tr>\n",
              "  </tbody>\n",
              "</table>\n",
              "</div>"
            ],
            "text/plain": [
              "   Pregnancies  Glucose  BloodPressure  ...  DiabetesPedigreeFunction  Age  Outcome\n",
              "0            6      148             72  ...                     0.627   50        1\n",
              "1            1       85             66  ...                     0.351   31        0\n",
              "2            8      183             64  ...                     0.672   32        1\n",
              "3            1       89             66  ...                     0.167   21        0\n",
              "4            0      137             40  ...                     2.288   33        1\n",
              "\n",
              "[5 rows x 9 columns]"
            ]
          },
          "metadata": {
            "tags": []
          },
          "execution_count": 51
        }
      ]
    },
    {
      "cell_type": "code",
      "metadata": {
        "colab": {
          "base_uri": "https://localhost:8080/",
          "height": 203
        },
        "id": "zJiMvvyQUhxd",
        "outputId": "f6c74691-5c50-4f5a-a0f6-bbdc7256eeea"
      },
      "source": [
        "# TITANIC SURVIVAL PREDICTION\n",
        "\n",
        "\n",
        "from pandas import read_csv\n",
        "from pandas import set_option\n",
        "from matplotlib import pyplot\n",
        "import numpy as np\n",
        "\n",
        "\n",
        "filename = \"/content/drive/MyDrive/Datasets_/titanic.csv\"\n",
        "titanic_data = read_csv(filename,)\n",
        "\n",
        "displaydata = titanic_data.head()\n",
        "displaydata\n",
        "\n",
        "#print(displaydata)"
      ],
      "execution_count": null,
      "outputs": [
        {
          "output_type": "execute_result",
          "data": {
            "text/html": [
              "<div>\n",
              "<style scoped>\n",
              "    .dataframe tbody tr th:only-of-type {\n",
              "        vertical-align: middle;\n",
              "    }\n",
              "\n",
              "    .dataframe tbody tr th {\n",
              "        vertical-align: top;\n",
              "    }\n",
              "\n",
              "    .dataframe thead th {\n",
              "        text-align: right;\n",
              "    }\n",
              "</style>\n",
              "<table border=\"1\" class=\"dataframe\">\n",
              "  <thead>\n",
              "    <tr style=\"text-align: right;\">\n",
              "      <th></th>\n",
              "      <th>Survived</th>\n",
              "      <th>Pclass</th>\n",
              "      <th>Name</th>\n",
              "      <th>Sex</th>\n",
              "      <th>Age</th>\n",
              "      <th>Siblings/Spouses Aboard</th>\n",
              "      <th>Parents/Children Aboard</th>\n",
              "      <th>Fare</th>\n",
              "    </tr>\n",
              "  </thead>\n",
              "  <tbody>\n",
              "    <tr>\n",
              "      <th>0</th>\n",
              "      <td>0</td>\n",
              "      <td>3</td>\n",
              "      <td>Mr. Owen Harris Braund</td>\n",
              "      <td>male</td>\n",
              "      <td>22.0</td>\n",
              "      <td>1</td>\n",
              "      <td>0</td>\n",
              "      <td>7.250</td>\n",
              "    </tr>\n",
              "    <tr>\n",
              "      <th>1</th>\n",
              "      <td>1</td>\n",
              "      <td>1</td>\n",
              "      <td>Mrs. John Bradley (Florence Briggs Thayer) Cum...</td>\n",
              "      <td>female</td>\n",
              "      <td>38.0</td>\n",
              "      <td>1</td>\n",
              "      <td>0</td>\n",
              "      <td>71.283</td>\n",
              "    </tr>\n",
              "    <tr>\n",
              "      <th>2</th>\n",
              "      <td>1</td>\n",
              "      <td>3</td>\n",
              "      <td>Miss. Laina Heikkinen</td>\n",
              "      <td>female</td>\n",
              "      <td>26.0</td>\n",
              "      <td>0</td>\n",
              "      <td>0</td>\n",
              "      <td>7.925</td>\n",
              "    </tr>\n",
              "    <tr>\n",
              "      <th>3</th>\n",
              "      <td>1</td>\n",
              "      <td>1</td>\n",
              "      <td>Mrs. Jacques Heath (Lily May Peel) Futrelle</td>\n",
              "      <td>female</td>\n",
              "      <td>35.0</td>\n",
              "      <td>1</td>\n",
              "      <td>0</td>\n",
              "      <td>53.100</td>\n",
              "    </tr>\n",
              "    <tr>\n",
              "      <th>4</th>\n",
              "      <td>0</td>\n",
              "      <td>3</td>\n",
              "      <td>Mr. William Henry Allen</td>\n",
              "      <td>male</td>\n",
              "      <td>35.0</td>\n",
              "      <td>0</td>\n",
              "      <td>0</td>\n",
              "      <td>8.050</td>\n",
              "    </tr>\n",
              "  </tbody>\n",
              "</table>\n",
              "</div>"
            ],
            "text/plain": [
              "   Survived  Pclass  ... Parents/Children Aboard    Fare\n",
              "0         0       3  ...                       0   7.250\n",
              "1         1       1  ...                       0  71.283\n",
              "2         1       3  ...                       0   7.925\n",
              "3         1       1  ...                       0  53.100\n",
              "4         0       3  ...                       0   8.050\n",
              "\n",
              "[5 rows x 8 columns]"
            ]
          },
          "metadata": {
            "tags": []
          },
          "execution_count": 52
        }
      ]
    },
    {
      "cell_type": "markdown",
      "metadata": {
        "id": "wLataWRaDLOF"
      },
      "source": [
        "From the code above I import the necessary libraries to load and work with the dataset in csv format,\n",
        "\n",
        "The libraries and packages imported are:\n",
        ">>> We read the titanic csv file with read_cvs function from pandas"
      ]
    },
    {
      "cell_type": "markdown",
      "metadata": {
        "id": "8qH4lrXwnLRu"
      },
      "source": [
        "Dataset Contents:\n",
        "\n",
        ">>> 0: Survived Indicator\n",
        ">>> 1: Passenger Class\n",
        ">>> 2: Name\n",
        ">>> 3: Sex\n",
        ">>> 4: Age\n",
        ">>> 5: Siblings Aboard\n",
        ">>> 6: Parents Aboard\n",
        ">>> 7: Fare paid in £s"
      ]
    },
    {
      "cell_type": "code",
      "metadata": {
        "id": "oJEZBjoOmOi3"
      },
      "source": [
        "# Dataset Description\n",
        "\n",
        "#description = titanic_data.describe()\n",
        "#description"
      ],
      "execution_count": null,
      "outputs": []
    },
    {
      "cell_type": "markdown",
      "metadata": {
        "id": "JSxZqt-q_Tt0"
      },
      "source": [
        "With the Dataset description above we can see that only close to 38% out of the dataset passengers survived the Titanic. We can also see that the passenger ages range from 0.4 to 80, and the average age of passenges aboard is 29."
      ]
    },
    {
      "cell_type": "markdown",
      "metadata": {
        "id": "a3lDcfhQa5Sp"
      },
      "source": [
        "I infasise on the Age and Passenger class to see the How they affect the survival of Passengers aboard"
      ]
    },
    {
      "cell_type": "code",
      "metadata": {
        "colab": {
          "base_uri": "https://localhost:8080/",
          "height": 281
        },
        "id": "qeq7_fwlYnd0",
        "outputId": "71e79373-96b2-479e-9667-7df05351175d"
      },
      "source": [
        "\"\"\"From here we use display the Graph distribution of \n",
        "the data and for analysis on how effectively the particular data \n",
        "element would affect the likelyhood of a passenger to survive or not. \n",
        "For that we use the pyplot class from MatploLib.\"\"\"\n",
        "\n",
        "titanic_data.hist()\n",
        "pyplot.show()"
      ],
      "execution_count": null,
      "outputs": [
        {
          "output_type": "display_data",
          "data": {
            "image/png": "[encoded data removed]",
            "text/plain": [
              "<Figure size 432x288 with 6 Axes>"
            ]
          },
          "metadata": {
            "tags": [],
            "needs_background": "light"
          }
        }
      ]
    },
    {
      "cell_type": "markdown",
      "metadata": {
        "id": "ZtE1M3VQo1LD"
      },
      "source": [
        "The medium ceparates those who will more likely survive and those who WON'T survive. \n",
        "From the displayed Graphs we can observe that:\n",
        ">>> Survived: Around 250 passengers Survived and More than 400 did NOT survive\n",
        ">>> Pclass: The passenger classes are distributed into 3 classes and the majority is on the right side\n",
        "\n",
        "We as well observe that "
      ]
    },
    {
      "cell_type": "code",
      "metadata": {
        "colab": {
          "base_uri": "https://localhost:8080/",
          "height": 268
        },
        "id": "LeTs2rvTYv2y",
        "outputId": "8ca26338-b5a5-434d-8e9e-de82ea7f2051"
      },
      "source": [
        "#Density plot vizualisation\n",
        "\n",
        "titanic_data.plot(kind='density', subplots = True, layout=(3, 2), sharex=False)\n",
        "pyplot.show()"
      ],
      "execution_count": null,
      "outputs": [
        {
          "output_type": "display_data",
          "data": {
            "image/png": "[encoded data removed]",
            "text/plain": [
              "<Figure size 432x288 with 6 Axes>"
            ]
          },
          "metadata": {
            "tags": [],
            "needs_background": "light"
          }
        }
      ]
    },
    {
      "cell_type": "code",
      "metadata": {
        "colab": {
          "base_uri": "https://localhost:8080/",
          "height": 203
        },
        "id": "sqqD_YPFZicm",
        "outputId": "6ab0c452-e401-4021-bdf5-2c41dcdd3042"
      },
      "source": [
        "# From YTB, The drop method, to get rid of unecessary columns in the Dataset\n",
        "# The new_titanic will create a dataframe with no string values (Name)\n",
        "\n",
        "new_titanic = titanic_data\n",
        "new_titanic.drop(['Name'], axis=1, inplace=True)\n",
        "new_titanic.head()"
      ],
      "execution_count": null,
      "outputs": [
        {
          "output_type": "execute_result",
          "data": {
            "text/html": [
              "<div>\n",
              "<style scoped>\n",
              "    .dataframe tbody tr th:only-of-type {\n",
              "        vertical-align: middle;\n",
              "    }\n",
              "\n",
              "    .dataframe tbody tr th {\n",
              "        vertical-align: top;\n",
              "    }\n",
              "\n",
              "    .dataframe thead th {\n",
              "        text-align: right;\n",
              "    }\n",
              "</style>\n",
              "<table border=\"1\" class=\"dataframe\">\n",
              "  <thead>\n",
              "    <tr style=\"text-align: right;\">\n",
              "      <th></th>\n",
              "      <th>Survived</th>\n",
              "      <th>Pclass</th>\n",
              "      <th>Sex</th>\n",
              "      <th>Age</th>\n",
              "      <th>Siblings/Spouses Aboard</th>\n",
              "      <th>Parents/Children Aboard</th>\n",
              "      <th>Fare</th>\n",
              "    </tr>\n",
              "  </thead>\n",
              "  <tbody>\n",
              "    <tr>\n",
              "      <th>0</th>\n",
              "      <td>0</td>\n",
              "      <td>3</td>\n",
              "      <td>male</td>\n",
              "      <td>22.0</td>\n",
              "      <td>1</td>\n",
              "      <td>0</td>\n",
              "      <td>7.250</td>\n",
              "    </tr>\n",
              "    <tr>\n",
              "      <th>1</th>\n",
              "      <td>1</td>\n",
              "      <td>1</td>\n",
              "      <td>female</td>\n",
              "      <td>38.0</td>\n",
              "      <td>1</td>\n",
              "      <td>0</td>\n",
              "      <td>71.283</td>\n",
              "    </tr>\n",
              "    <tr>\n",
              "      <th>2</th>\n",
              "      <td>1</td>\n",
              "      <td>3</td>\n",
              "      <td>female</td>\n",
              "      <td>26.0</td>\n",
              "      <td>0</td>\n",
              "      <td>0</td>\n",
              "      <td>7.925</td>\n",
              "    </tr>\n",
              "    <tr>\n",
              "      <th>3</th>\n",
              "      <td>1</td>\n",
              "      <td>1</td>\n",
              "      <td>female</td>\n",
              "      <td>35.0</td>\n",
              "      <td>1</td>\n",
              "      <td>0</td>\n",
              "      <td>53.100</td>\n",
              "    </tr>\n",
              "    <tr>\n",
              "      <th>4</th>\n",
              "      <td>0</td>\n",
              "      <td>3</td>\n",
              "      <td>male</td>\n",
              "      <td>35.0</td>\n",
              "      <td>0</td>\n",
              "      <td>0</td>\n",
              "      <td>8.050</td>\n",
              "    </tr>\n",
              "  </tbody>\n",
              "</table>\n",
              "</div>"
            ],
            "text/plain": [
              "   Survived  Pclass  ... Parents/Children Aboard    Fare\n",
              "0         0       3  ...                       0   7.250\n",
              "1         1       1  ...                       0  71.283\n",
              "2         1       3  ...                       0   7.925\n",
              "3         1       1  ...                       0  53.100\n",
              "4         0       3  ...                       0   8.050\n",
              "\n",
              "[5 rows x 7 columns]"
            ]
          },
          "metadata": {
            "tags": []
          },
          "execution_count": 56
        }
      ]
    },
    {
      "cell_type": "code",
      "metadata": {
        "colab": {
          "base_uri": "https://localhost:8080/"
        },
        "id": "T3ld0-jopZue",
        "outputId": "4732e770-8513-4321-8ef8-37f09de2db56"
      },
      "source": [
        "# To check the missing values, using the isnull() method\n",
        "\n",
        "new_titanic.isnull().sum()\n",
        "\n",
        "#No missing values found...\n",
        "#If any, fill it with its mean value, eg: Missing values for 'Age'\n",
        "#new_titanic['Age'].fillna(new_titanic['Age'].mean(), inplace=True)"
      ],
      "execution_count": null,
      "outputs": [
        {
          "output_type": "execute_result",
          "data": {
            "text/plain": [
              "Survived                   0\n",
              "Pclass                     0\n",
              "Sex                        0\n",
              "Age                        0\n",
              "Siblings/Spouses Aboard    0\n",
              "Parents/Children Aboard    0\n",
              "Fare                       0\n",
              "dtype: int64"
            ]
          },
          "metadata": {
            "tags": []
          },
          "execution_count": 57
        }
      ]
    },
    {
      "cell_type": "code",
      "metadata": {
        "colab": {
          "base_uri": "https://localhost:8080/",
          "height": 203
        },
        "id": "y023oTVSr1if",
        "outputId": "22299846-cca1-459e-caa7-681fdc8f26a8"
      },
      "source": [
        "# Create a Dummie feature for Sex values and get rid of the string values\n",
        "import pandas as pd\n",
        "\n",
        "l_sex_dumies = pd.get_dummies(new_titanic['Sex'],drop_first=True) #create a new feature out of the sex values\n",
        "new_titanic = pd.concat([new_titanic, l_sex_dumies], axis=1) #add the new feature in the dataframe\n",
        "\n",
        "new_titanic.head()\n"
      ],
      "execution_count": null,
      "outputs": [
        {
          "output_type": "execute_result",
          "data": {
            "text/html": [
              "<div>\n",
              "<style scoped>\n",
              "    .dataframe tbody tr th:only-of-type {\n",
              "        vertical-align: middle;\n",
              "    }\n",
              "\n",
              "    .dataframe tbody tr th {\n",
              "        vertical-align: top;\n",
              "    }\n",
              "\n",
              "    .dataframe thead th {\n",
              "        text-align: right;\n",
              "    }\n",
              "</style>\n",
              "<table border=\"1\" class=\"dataframe\">\n",
              "  <thead>\n",
              "    <tr style=\"text-align: right;\">\n",
              "      <th></th>\n",
              "      <th>Survived</th>\n",
              "      <th>Pclass</th>\n",
              "      <th>Sex</th>\n",
              "      <th>Age</th>\n",
              "      <th>Siblings/Spouses Aboard</th>\n",
              "      <th>Parents/Children Aboard</th>\n",
              "      <th>Fare</th>\n",
              "      <th>male</th>\n",
              "    </tr>\n",
              "  </thead>\n",
              "  <tbody>\n",
              "    <tr>\n",
              "      <th>0</th>\n",
              "      <td>0</td>\n",
              "      <td>3</td>\n",
              "      <td>male</td>\n",
              "      <td>22.0</td>\n",
              "      <td>1</td>\n",
              "      <td>0</td>\n",
              "      <td>7.250</td>\n",
              "      <td>1</td>\n",
              "    </tr>\n",
              "    <tr>\n",
              "      <th>1</th>\n",
              "      <td>1</td>\n",
              "      <td>1</td>\n",
              "      <td>female</td>\n",
              "      <td>38.0</td>\n",
              "      <td>1</td>\n",
              "      <td>0</td>\n",
              "      <td>71.283</td>\n",
              "      <td>0</td>\n",
              "    </tr>\n",
              "    <tr>\n",
              "      <th>2</th>\n",
              "      <td>1</td>\n",
              "      <td>3</td>\n",
              "      <td>female</td>\n",
              "      <td>26.0</td>\n",
              "      <td>0</td>\n",
              "      <td>0</td>\n",
              "      <td>7.925</td>\n",
              "      <td>0</td>\n",
              "    </tr>\n",
              "    <tr>\n",
              "      <th>3</th>\n",
              "      <td>1</td>\n",
              "      <td>1</td>\n",
              "      <td>female</td>\n",
              "      <td>35.0</td>\n",
              "      <td>1</td>\n",
              "      <td>0</td>\n",
              "      <td>53.100</td>\n",
              "      <td>0</td>\n",
              "    </tr>\n",
              "    <tr>\n",
              "      <th>4</th>\n",
              "      <td>0</td>\n",
              "      <td>3</td>\n",
              "      <td>male</td>\n",
              "      <td>35.0</td>\n",
              "      <td>0</td>\n",
              "      <td>0</td>\n",
              "      <td>8.050</td>\n",
              "      <td>1</td>\n",
              "    </tr>\n",
              "  </tbody>\n",
              "</table>\n",
              "</div>"
            ],
            "text/plain": [
              "   Survived  Pclass     Sex  ...  Parents/Children Aboard    Fare  male\n",
              "0         0       3    male  ...                        0   7.250     1\n",
              "1         1       1  female  ...                        0  71.283     0\n",
              "2         1       3  female  ...                        0   7.925     0\n",
              "3         1       1  female  ...                        0  53.100     0\n",
              "4         0       3    male  ...                        0   8.050     1\n",
              "\n",
              "[5 rows x 8 columns]"
            ]
          },
          "metadata": {
            "tags": []
          },
          "execution_count": 58
        }
      ]
    },
    {
      "cell_type": "code",
      "metadata": {
        "colab": {
          "base_uri": "https://localhost:8080/",
          "height": 203
        },
        "id": "FHLj1dNx5iui",
        "outputId": "835ce000-a946-4fe3-91a6-5e0052e664e6"
      },
      "source": [
        "#Get rid of the Sex feature and other unecessary\n",
        "\n",
        "new_titanic_ = new_titanic.drop(['Sex', 'Siblings/Spouses Aboard', 'Parents/Children Aboard'], axis=1, inplace=True)\n",
        "new_titanic.head()"
      ],
      "execution_count": null,
      "outputs": [
        {
          "output_type": "execute_result",
          "data": {
            "text/html": [
              "<div>\n",
              "<style scoped>\n",
              "    .dataframe tbody tr th:only-of-type {\n",
              "        vertical-align: middle;\n",
              "    }\n",
              "\n",
              "    .dataframe tbody tr th {\n",
              "        vertical-align: top;\n",
              "    }\n",
              "\n",
              "    .dataframe thead th {\n",
              "        text-align: right;\n",
              "    }\n",
              "</style>\n",
              "<table border=\"1\" class=\"dataframe\">\n",
              "  <thead>\n",
              "    <tr style=\"text-align: right;\">\n",
              "      <th></th>\n",
              "      <th>Survived</th>\n",
              "      <th>Pclass</th>\n",
              "      <th>Age</th>\n",
              "      <th>Fare</th>\n",
              "      <th>male</th>\n",
              "    </tr>\n",
              "  </thead>\n",
              "  <tbody>\n",
              "    <tr>\n",
              "      <th>0</th>\n",
              "      <td>0</td>\n",
              "      <td>3</td>\n",
              "      <td>22.0</td>\n",
              "      <td>7.250</td>\n",
              "      <td>1</td>\n",
              "    </tr>\n",
              "    <tr>\n",
              "      <th>1</th>\n",
              "      <td>1</td>\n",
              "      <td>1</td>\n",
              "      <td>38.0</td>\n",
              "      <td>71.283</td>\n",
              "      <td>0</td>\n",
              "    </tr>\n",
              "    <tr>\n",
              "      <th>2</th>\n",
              "      <td>1</td>\n",
              "      <td>3</td>\n",
              "      <td>26.0</td>\n",
              "      <td>7.925</td>\n",
              "      <td>0</td>\n",
              "    </tr>\n",
              "    <tr>\n",
              "      <th>3</th>\n",
              "      <td>1</td>\n",
              "      <td>1</td>\n",
              "      <td>35.0</td>\n",
              "      <td>53.100</td>\n",
              "      <td>0</td>\n",
              "    </tr>\n",
              "    <tr>\n",
              "      <th>4</th>\n",
              "      <td>0</td>\n",
              "      <td>3</td>\n",
              "      <td>35.0</td>\n",
              "      <td>8.050</td>\n",
              "      <td>1</td>\n",
              "    </tr>\n",
              "  </tbody>\n",
              "</table>\n",
              "</div>"
            ],
            "text/plain": [
              "   Survived  Pclass   Age    Fare  male\n",
              "0         0       3  22.0   7.250     1\n",
              "1         1       1  38.0  71.283     0\n",
              "2         1       3  26.0   7.925     0\n",
              "3         1       1  35.0  53.100     0\n",
              "4         0       3  35.0   8.050     1"
            ]
          },
          "metadata": {
            "tags": []
          },
          "execution_count": 59
        }
      ]
    },
    {
      "cell_type": "code",
      "metadata": {
        "id": "qiZW8iZl6MLh",
        "colab": {
          "base_uri": "https://localhost:8080/",
          "height": 203
        },
        "outputId": "8a70b48d-be7d-4f7f-95ea-a491122f3769"
      },
      "source": [
        "#Scaling the values for Age and Fare (Too large)\n",
        "from sklearn.preprocessing import StandardScaler #Import the std scaler\n",
        "\n",
        "# Working with the std scaler as stds\n",
        "stds = StandardScaler() \n",
        "feature_scale = ['Age', 'Fare'] # Defines the features to scale\n",
        "\n",
        "#Scale the features in the dataset\n",
        "new_titanic[feature_scale] = stds.fit_transform(new_titanic[feature_scale])\n",
        "new_titanic.head()\n"
      ],
      "execution_count": null,
      "outputs": [
        {
          "output_type": "execute_result",
          "data": {
            "text/html": [
              "<div>\n",
              "<style scoped>\n",
              "    .dataframe tbody tr th:only-of-type {\n",
              "        vertical-align: middle;\n",
              "    }\n",
              "\n",
              "    .dataframe tbody tr th {\n",
              "        vertical-align: top;\n",
              "    }\n",
              "\n",
              "    .dataframe thead th {\n",
              "        text-align: right;\n",
              "    }\n",
              "</style>\n",
              "<table border=\"1\" class=\"dataframe\">\n",
              "  <thead>\n",
              "    <tr style=\"text-align: right;\">\n",
              "      <th></th>\n",
              "      <th>Survived</th>\n",
              "      <th>Pclass</th>\n",
              "      <th>Age</th>\n",
              "      <th>Fare</th>\n",
              "      <th>male</th>\n",
              "    </tr>\n",
              "  </thead>\n",
              "  <tbody>\n",
              "    <tr>\n",
              "      <th>0</th>\n",
              "      <td>0</td>\n",
              "      <td>3</td>\n",
              "      <td>-0.529</td>\n",
              "      <td>-0.504</td>\n",
              "      <td>1</td>\n",
              "    </tr>\n",
              "    <tr>\n",
              "      <th>1</th>\n",
              "      <td>1</td>\n",
              "      <td>1</td>\n",
              "      <td>0.604</td>\n",
              "      <td>0.783</td>\n",
              "      <td>0</td>\n",
              "    </tr>\n",
              "    <tr>\n",
              "      <th>2</th>\n",
              "      <td>1</td>\n",
              "      <td>3</td>\n",
              "      <td>-0.246</td>\n",
              "      <td>-0.490</td>\n",
              "      <td>0</td>\n",
              "    </tr>\n",
              "    <tr>\n",
              "      <th>3</th>\n",
              "      <td>1</td>\n",
              "      <td>1</td>\n",
              "      <td>0.392</td>\n",
              "      <td>0.418</td>\n",
              "      <td>0</td>\n",
              "    </tr>\n",
              "    <tr>\n",
              "      <th>4</th>\n",
              "      <td>0</td>\n",
              "      <td>3</td>\n",
              "      <td>0.392</td>\n",
              "      <td>-0.488</td>\n",
              "      <td>1</td>\n",
              "    </tr>\n",
              "  </tbody>\n",
              "</table>\n",
              "</div>"
            ],
            "text/plain": [
              "   Survived  Pclass    Age   Fare  male\n",
              "0         0       3 -0.529 -0.504     1\n",
              "1         1       1  0.604  0.783     0\n",
              "2         1       3 -0.246 -0.490     0\n",
              "3         1       1  0.392  0.418     0\n",
              "4         0       3  0.392 -0.488     1"
            ]
          },
          "metadata": {
            "tags": []
          },
          "execution_count": 60
        }
      ]
    },
    {
      "cell_type": "code",
      "metadata": {
        "id": "ldO3rR5E8Jsg"
      },
      "source": [
        "# Spliting the features into Inputs and Outputs | X and y\n",
        "X_ = new_titanic.drop(['Survived'], axis=1) #Inputs #features\n",
        "y = new_titanic['Survived'] #Output #Label\n",
        "\n",
        "#run to check the values\n",
        "#X_ \n",
        "#y"
      ],
      "execution_count": null,
      "outputs": []
    },
    {
      "cell_type": "code",
      "metadata": {
        "id": "oecQ24AK-NeI"
      },
      "source": [
        "# Selecting an effective Model for the Dataset\n",
        "\"\"\" This I am not very sure about the model that will perform well,\n",
        "implementing a model selection technique to select one with \n",
        "good perfomance (Decision tree, Suport Vector Machine, KNN)\"\"\"\n",
        "\n",
        "# Importing the libraries\n",
        "\n",
        "from sklearn.model_selection import GridSearchCV\n",
        "from sklearn.tree import DecisionTreeClassifier\n",
        "from sklearn.neighbors import KNeighborsClassifier\n",
        "from sklearn.svm import SVC\n",
        "\n",
        "\n",
        "# Implementing the model selection technique\n",
        "model_param = {\n",
        "    'DecisionTreeClassifier':{\n",
        "        'model': DecisionTreeClassifier(),\n",
        "        'param': {\n",
        "            'criterion':['gini', 'entropy'] # Hyper Parameters\n",
        "        }\n",
        "    },\n",
        "\n",
        "    'KNeighborsClassifier':{\n",
        "        'model': KNeighborsClassifier(),\n",
        "        'param': {\n",
        "            'n_neighbors':[5, 10, 15, 20, 25] # Hyper Parameters\n",
        "        }\n",
        "    },     \n",
        "    \n",
        "    'SVC':{\n",
        "        'model': SVC(),\n",
        "        'param': {\n",
        "            'kernel':['rbf', 'linear', 'sigmoid'],\n",
        "            'C':[0.1, 1, 10, 100] # Hyper Parameters\n",
        "        }\n",
        "    }\n",
        "\n",
        "}\n"
      ],
      "execution_count": null,
      "outputs": []
    },
    {
      "cell_type": "code",
      "metadata": {
        "colab": {
          "base_uri": "https://localhost:8080/"
        },
        "id": "r1UXQmKfXWZD",
        "outputId": "6eea1bb5-8ba2-409e-c897-0873170a4725"
      },
      "source": [
        "my_dict = {'name': 'Soldier', 'age':45, 'school':'UoK', 'modules': {'day': 'ds', 'eve': 'or'}}\n",
        "print(my_dict['modules'].items()) # Dict Demo "
      ],
      "execution_count": null,
      "outputs": [
        {
          "output_type": "stream",
          "text": [
            "dict_items([('day', 'ds'), ('eve', 'or')])\n"
          ],
          "name": "stdout"
        }
      ]
    },
    {
      "cell_type": "code",
      "metadata": {
        "id": "jFMlUa6hSeRL"
      },
      "source": [
        "# Verifying the Score from Each Model\n",
        "score =[]\n",
        "\n",
        "for model_name, mp in model_param.items():\n",
        "  model_selection = GridSearchCV(estimator = mp['model'], param_grid= mp['param'], cv=5, return_train_score=False) \n",
        "  model_selection.fit(X_, y)\n",
        "  score.append({\n",
        "      'model':model_name,\n",
        "      'best_score': model_selection.best_score_,\n",
        "      'best_params': model_selection.best_params_\n",
        "  }) \n",
        "\n"
      ],
      "execution_count": null,
      "outputs": []
    },
    {
      "cell_type": "code",
      "metadata": {
        "colab": {
          "base_uri": "https://localhost:8080/"
        },
        "id": "lzIBgFWwVTtK",
        "outputId": "8b729644-dc3e-4c2b-f90b-cea3d02c4817"
      },
      "source": [
        "# Creating a new Dataframe to display the scores\n",
        "model_df = pd.DataFrame(score, columns=['model', 'best_score', 'best_params'])\n",
        "model_df"
      ],
      "execution_count": null,
      "outputs": [
        {
          "output_type": "execute_result",
          "data": {
            "text/html": [
              "<div>\n",
              "<style scoped>\n",
              "    .dataframe tbody tr th:only-of-type {\n",
              "        vertical-align: middle;\n",
              "    }\n",
              "\n",
              "    .dataframe tbody tr th {\n",
              "        vertical-align: top;\n",
              "    }\n",
              "\n",
              "    .dataframe thead th {\n",
              "        text-align: right;\n",
              "    }\n",
              "</style>\n",
              "<table border=\"1\" class=\"dataframe\">\n",
              "  <thead>\n",
              "    <tr style=\"text-align: right;\">\n",
              "      <th></th>\n",
              "      <th>model</th>\n",
              "      <th>best_score</th>\n",
              "      <th>best_params</th>\n",
              "    </tr>\n",
              "  </thead>\n",
              "  <tbody>\n",
              "    <tr>\n",
              "      <th>0</th>\n",
              "      <td>DecisionTreeClassifier</td>\n",
              "      <td>0.779</td>\n",
              "      <td>{'criterion': 'entropy'}</td>\n",
              "    </tr>\n",
              "    <tr>\n",
              "      <th>1</th>\n",
              "      <td>KNeighborsClassifier</td>\n",
              "      <td>0.815</td>\n",
              "      <td>{'n_neighbors': 5}</td>\n",
              "    </tr>\n",
              "    <tr>\n",
              "      <th>2</th>\n",
              "      <td>SVC</td>\n",
              "      <td>0.823</td>\n",
              "      <td>{'C': 100, 'kernel': 'rbf'}</td>\n",
              "    </tr>\n",
              "  </tbody>\n",
              "</table>\n",
              "</div>"
            ],
            "text/plain": [
              "                    model  best_score                  best_params\n",
              "0  DecisionTreeClassifier       0.779     {'criterion': 'entropy'}\n",
              "1    KNeighborsClassifier       0.815           {'n_neighbors': 5}\n",
              "2                     SVC       0.823  {'C': 100, 'kernel': 'rbf'}"
            ]
          },
          "metadata": {
            "tags": []
          },
          "execution_count": 65
        }
      ]
    },
    {
      "cell_type": "code",
      "metadata": {
        "id": "ijMkrfzEWoLl"
      },
      "source": [
        "# The SVC Model performs well,\n",
        "\n",
        "# Implementing the Model for prediction\n",
        "model_svc = SVC(C=100, kernel='rbf')"
      ],
      "execution_count": null,
      "outputs": []
    },
    {
      "cell_type": "code",
      "metadata": {
        "colab": {
          "base_uri": "https://localhost:8080/"
        },
        "id": "wFv0H6ysX2-D",
        "outputId": "3d0145df-589e-4263-c494-4b8b7673006b"
      },
      "source": [
        "# Training the Model\n",
        "model_svc.fit(X_, y)"
      ],
      "execution_count": null,
      "outputs": [
        {
          "output_type": "execute_result",
          "data": {
            "text/plain": [
              "SVC(C=100, break_ties=False, cache_size=200, class_weight=None, coef0=0.0,\n",
              "    decision_function_shape='ovr', degree=3, gamma='scale', kernel='rbf',\n",
              "    max_iter=-1, probability=False, random_state=None, shrinking=True,\n",
              "    tol=0.001, verbose=False)"
            ]
          },
          "metadata": {
            "tags": []
          },
          "execution_count": 67
        }
      ]
    },
    {
      "cell_type": "code",
      "metadata": {
        "id": "N5tNBaU_aHPB"
      },
      "source": [
        "# Creating the Test and Train Dataset\n",
        "\n",
        "\n"
      ],
      "execution_count": null,
      "outputs": []
    },
    {
      "cell_type": "code",
      "metadata": {
        "colab": {
          "base_uri": "https://localhost:8080/"
        },
        "id": "FyD_xDLahAlr",
        "outputId": "85b95f9e-bf0a-4e15-e175-dab745ed7320"
      },
      "source": [
        "# CAT REVISION\n",
        "# Playing around with the functions\n",
        "\n",
        "from pandas import read_csv\n",
        "from pandas import set_option\n",
        "from matplotlib import pyplot\n",
        "from sklearn.preprocessing import MinMaxScaler\n",
        "from numpy import set_printoptions\n",
        "\n",
        "file_path = '/content/drive/MyDrive/Pima_Indians_Diabetes/diabetes.csv'\n",
        "df_ = read_csv(file_path)\n",
        "\n",
        "df_.head()"
      ],
      "execution_count": null,
      "outputs": [
        {
          "output_type": "execute_result",
          "data": {
            "text/html": [
              "<div>\n",
              "<style scoped>\n",
              "    .dataframe tbody tr th:only-of-type {\n",
              "        vertical-align: middle;\n",
              "    }\n",
              "\n",
              "    .dataframe tbody tr th {\n",
              "        vertical-align: top;\n",
              "    }\n",
              "\n",
              "    .dataframe thead th {\n",
              "        text-align: right;\n",
              "    }\n",
              "</style>\n",
              "<table border=\"1\" class=\"dataframe\">\n",
              "  <thead>\n",
              "    <tr style=\"text-align: right;\">\n",
              "      <th></th>\n",
              "      <th>Pregnancies</th>\n",
              "      <th>Glucose</th>\n",
              "      <th>BloodPressure</th>\n",
              "      <th>SkinThickness</th>\n",
              "      <th>Insulin</th>\n",
              "      <th>BMI</th>\n",
              "      <th>DiabetesPedigreeFunction</th>\n",
              "      <th>Age</th>\n",
              "      <th>Outcome</th>\n",
              "    </tr>\n",
              "  </thead>\n",
              "  <tbody>\n",
              "    <tr>\n",
              "      <th>0</th>\n",
              "      <td>6</td>\n",
              "      <td>148</td>\n",
              "      <td>72</td>\n",
              "      <td>35</td>\n",
              "      <td>0</td>\n",
              "      <td>33.6</td>\n",
              "      <td>0.627</td>\n",
              "      <td>50</td>\n",
              "      <td>1</td>\n",
              "    </tr>\n",
              "    <tr>\n",
              "      <th>1</th>\n",
              "      <td>1</td>\n",
              "      <td>85</td>\n",
              "      <td>66</td>\n",
              "      <td>29</td>\n",
              "      <td>0</td>\n",
              "      <td>26.6</td>\n",
              "      <td>0.351</td>\n",
              "      <td>31</td>\n",
              "      <td>0</td>\n",
              "    </tr>\n",
              "    <tr>\n",
              "      <th>2</th>\n",
              "      <td>8</td>\n",
              "      <td>183</td>\n",
              "      <td>64</td>\n",
              "      <td>0</td>\n",
              "      <td>0</td>\n",
              "      <td>23.3</td>\n",
              "      <td>0.672</td>\n",
              "      <td>32</td>\n",
              "      <td>1</td>\n",
              "    </tr>\n",
              "    <tr>\n",
              "      <th>3</th>\n",
              "      <td>1</td>\n",
              "      <td>89</td>\n",
              "      <td>66</td>\n",
              "      <td>23</td>\n",
              "      <td>94</td>\n",
              "      <td>28.1</td>\n",
              "      <td>0.167</td>\n",
              "      <td>21</td>\n",
              "      <td>0</td>\n",
              "    </tr>\n",
              "    <tr>\n",
              "      <th>4</th>\n",
              "      <td>0</td>\n",
              "      <td>137</td>\n",
              "      <td>40</td>\n",
              "      <td>35</td>\n",
              "      <td>168</td>\n",
              "      <td>43.1</td>\n",
              "      <td>2.288</td>\n",
              "      <td>33</td>\n",
              "      <td>1</td>\n",
              "    </tr>\n",
              "  </tbody>\n",
              "</table>\n",
              "</div>"
            ],
            "text/plain": [
              "   Pregnancies  Glucose  BloodPressure  ...  DiabetesPedigreeFunction  Age  Outcome\n",
              "0            6      148             72  ...                     0.627   50        1\n",
              "1            1       85             66  ...                     0.351   31        0\n",
              "2            8      183             64  ...                     0.672   32        1\n",
              "3            1       89             66  ...                     0.167   21        0\n",
              "4            0      137             40  ...                     2.288   33        1\n",
              "\n",
              "[5 rows x 9 columns]"
            ]
          },
          "metadata": {
            "tags": []
          },
          "execution_count": 69
        }
      ]
    },
    {
      "cell_type": "code",
      "metadata": {
        "colab": {
          "base_uri": "https://localhost:8080/",
          "height": 297
        },
        "id": "uRjjkDrRL2SE",
        "outputId": "b5ce2f70-1236-4189-8c76-4c76b8a8a4ec"
      },
      "source": [
        "# Describing the data frame\n",
        "\n",
        "set_option('precision', 3)\n",
        "df_.describe()"
      ],
      "execution_count": null,
      "outputs": [
        {
          "output_type": "execute_result",
          "data": {
            "text/html": [
              "<div>\n",
              "<style scoped>\n",
              "    .dataframe tbody tr th:only-of-type {\n",
              "        vertical-align: middle;\n",
              "    }\n",
              "\n",
              "    .dataframe tbody tr th {\n",
              "        vertical-align: top;\n",
              "    }\n",
              "\n",
              "    .dataframe thead th {\n",
              "        text-align: right;\n",
              "    }\n",
              "</style>\n",
              "<table border=\"1\" class=\"dataframe\">\n",
              "  <thead>\n",
              "    <tr style=\"text-align: right;\">\n",
              "      <th></th>\n",
              "      <th>Pregnancies</th>\n",
              "      <th>Glucose</th>\n",
              "      <th>BloodPressure</th>\n",
              "      <th>SkinThickness</th>\n",
              "      <th>Insulin</th>\n",
              "      <th>BMI</th>\n",
              "      <th>DiabetesPedigreeFunction</th>\n",
              "      <th>Age</th>\n",
              "      <th>Outcome</th>\n",
              "    </tr>\n",
              "  </thead>\n",
              "  <tbody>\n",
              "    <tr>\n",
              "      <th>count</th>\n",
              "      <td>768.000</td>\n",
              "      <td>768.000</td>\n",
              "      <td>768.000</td>\n",
              "      <td>768.000</td>\n",
              "      <td>768.000</td>\n",
              "      <td>768.000</td>\n",
              "      <td>768.000</td>\n",
              "      <td>768.000</td>\n",
              "      <td>768.000</td>\n",
              "    </tr>\n",
              "    <tr>\n",
              "      <th>mean</th>\n",
              "      <td>3.845</td>\n",
              "      <td>120.895</td>\n",
              "      <td>69.105</td>\n",
              "      <td>20.536</td>\n",
              "      <td>79.799</td>\n",
              "      <td>31.993</td>\n",
              "      <td>0.472</td>\n",
              "      <td>33.241</td>\n",
              "      <td>0.349</td>\n",
              "    </tr>\n",
              "    <tr>\n",
              "      <th>std</th>\n",
              "      <td>3.370</td>\n",
              "      <td>31.973</td>\n",
              "      <td>19.356</td>\n",
              "      <td>15.952</td>\n",
              "      <td>115.244</td>\n",
              "      <td>7.884</td>\n",
              "      <td>0.331</td>\n",
              "      <td>11.760</td>\n",
              "      <td>0.477</td>\n",
              "    </tr>\n",
              "    <tr>\n",
              "      <th>min</th>\n",
              "      <td>0.000</td>\n",
              "      <td>0.000</td>\n",
              "      <td>0.000</td>\n",
              "      <td>0.000</td>\n",
              "      <td>0.000</td>\n",
              "      <td>0.000</td>\n",
              "      <td>0.078</td>\n",
              "      <td>21.000</td>\n",
              "      <td>0.000</td>\n",
              "    </tr>\n",
              "    <tr>\n",
              "      <th>25%</th>\n",
              "      <td>1.000</td>\n",
              "      <td>99.000</td>\n",
              "      <td>62.000</td>\n",
              "      <td>0.000</td>\n",
              "      <td>0.000</td>\n",
              "      <td>27.300</td>\n",
              "      <td>0.244</td>\n",
              "      <td>24.000</td>\n",
              "      <td>0.000</td>\n",
              "    </tr>\n",
              "    <tr>\n",
              "      <th>50%</th>\n",
              "      <td>3.000</td>\n",
              "      <td>117.000</td>\n",
              "      <td>72.000</td>\n",
              "      <td>23.000</td>\n",
              "      <td>30.500</td>\n",
              "      <td>32.000</td>\n",
              "      <td>0.372</td>\n",
              "      <td>29.000</td>\n",
              "      <td>0.000</td>\n",
              "    </tr>\n",
              "    <tr>\n",
              "      <th>75%</th>\n",
              "      <td>6.000</td>\n",
              "      <td>140.250</td>\n",
              "      <td>80.000</td>\n",
              "      <td>32.000</td>\n",
              "      <td>127.250</td>\n",
              "      <td>36.600</td>\n",
              "      <td>0.626</td>\n",
              "      <td>41.000</td>\n",
              "      <td>1.000</td>\n",
              "    </tr>\n",
              "    <tr>\n",
              "      <th>max</th>\n",
              "      <td>17.000</td>\n",
              "      <td>199.000</td>\n",
              "      <td>122.000</td>\n",
              "      <td>99.000</td>\n",
              "      <td>846.000</td>\n",
              "      <td>67.100</td>\n",
              "      <td>2.420</td>\n",
              "      <td>81.000</td>\n",
              "      <td>1.000</td>\n",
              "    </tr>\n",
              "  </tbody>\n",
              "</table>\n",
              "</div>"
            ],
            "text/plain": [
              "       Pregnancies  Glucose  ...      Age  Outcome\n",
              "count      768.000  768.000  ...  768.000  768.000\n",
              "mean         3.845  120.895  ...   33.241    0.349\n",
              "std          3.370   31.973  ...   11.760    0.477\n",
              "min          0.000    0.000  ...   21.000    0.000\n",
              "25%          1.000   99.000  ...   24.000    0.000\n",
              "50%          3.000  117.000  ...   29.000    0.000\n",
              "75%          6.000  140.250  ...   41.000    1.000\n",
              "max         17.000  199.000  ...   81.000    1.000\n",
              "\n",
              "[8 rows x 9 columns]"
            ]
          },
          "metadata": {
            "tags": []
          },
          "execution_count": 70
        }
      ]
    },
    {
      "cell_type": "code",
      "metadata": {
        "colab": {
          "base_uri": "https://localhost:8080/",
          "height": 299
        },
        "id": "C7QbIbg2Ml-c",
        "outputId": "5871a44e-124e-4d1e-9470-d2f2213b3e2d"
      },
      "source": [
        "# Displaying the graphs\n",
        "df_.hist()\n",
        "pyplot.show\n",
        "\n"
      ],
      "execution_count": null,
      "outputs": [
        {
          "output_type": "execute_result",
          "data": {
            "text/plain": [
              "<function matplotlib.pyplot.show>"
            ]
          },
          "metadata": {
            "tags": []
          },
          "execution_count": 71
        },
        {
          "output_type": "display_data",
          "data": {
            "image/png": "[encoded data removed]",
            "text/plain": [
              "<Figure size 432x288 with 9 Axes>"
            ]
          },
          "metadata": {
            "tags": [],
            "needs_background": "light"
          }
        }
      ]
    },
    {
      "cell_type": "code",
      "metadata": {
        "colab": {
          "base_uri": "https://localhost:8080/"
        },
        "id": "iu8KM4iNM6-A",
        "outputId": "85c2a95a-6ce9-473f-edad-a407ac644616"
      },
      "source": [
        "# Displaying the Density Histogram\n",
        "df_.plot(kind = 'density', subplots = True, layout = (3,3), sharex = False)\n",
        "pyplot.show()\n"
      ],
      "execution_count": null,
      "outputs": [
        {
          "output_type": "display_data",
          "data": {
            "image/png": "[encoded data removed]",
            "text/plain": [
              "<Figure size 432x288 with 9 Axes>"
            ]
          },
          "metadata": {
            "tags": [],
            "needs_background": "light"
          }
        }
      ]
    }
  ]
}